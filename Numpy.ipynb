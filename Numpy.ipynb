{
 "cells": [
  {
   "cell_type": "code",
   "execution_count": 1,
   "id": "111770ec-1058-41a9-af25-303f3c3bdcac",
   "metadata": {},
   "outputs": [
    {
     "name": "stdout",
     "output_type": "stream",
     "text": [
      "Defaulting to user installation because normal site-packages is not writeable\n",
      "Requirement already satisfied: numpy in d:\\anaconda\\lib\\site-packages (1.26.4)\n"
     ]
    }
   ],
   "source": [
    "!pip install numpy"
   ]
  },
  {
   "cell_type": "code",
   "execution_count": 35,
   "id": "5d165e69-de65-48ea-8549-ae60aa711b73",
   "metadata": {},
   "outputs": [],
   "source": [
    "import numpy as np"
   ]
  },
  {
   "cell_type": "code",
   "execution_count": 3,
   "id": "e83f8a77-61f3-4ac7-a998-b342affaa5e3",
   "metadata": {},
   "outputs": [],
   "source": [
    "list1 = [1,2,3,4]"
   ]
  },
  {
   "cell_type": "code",
   "execution_count": 4,
   "id": "eb80969f-78cf-414b-965c-405b131032e6",
   "metadata": {},
   "outputs": [],
   "source": [
    "a = np.array(list1)"
   ]
  },
  {
   "cell_type": "code",
   "execution_count": 5,
   "id": "2645e46a-0862-4f45-9d9b-1cbf8b0fc7ad",
   "metadata": {},
   "outputs": [
    {
     "data": {
      "text/plain": [
       "numpy.ndarray"
      ]
     },
     "execution_count": 5,
     "metadata": {},
     "output_type": "execute_result"
    }
   ],
   "source": [
    "type(a)"
   ]
  },
  {
   "cell_type": "code",
   "execution_count": 7,
   "id": "8598d1c1-0e82-48f8-b8b4-698ce3051992",
   "metadata": {},
   "outputs": [
    {
     "data": {
      "text/plain": [
       "(4,)"
      ]
     },
     "execution_count": 7,
     "metadata": {},
     "output_type": "execute_result"
    }
   ],
   "source": [
    "a.shape"
   ]
  },
  {
   "cell_type": "code",
   "execution_count": 13,
   "id": "3404c0e5-fb77-48be-81c4-44e363dc4948",
   "metadata": {},
   "outputs": [],
   "source": [
    "lists = [[1,2,3],[4,5,6],[7,8,9],[10,11,12]]"
   ]
  },
  {
   "cell_type": "code",
   "execution_count": 14,
   "id": "223ecf25-2092-49b7-b64e-b8b66f93063a",
   "metadata": {},
   "outputs": [],
   "source": [
    "b = np.array(lists)"
   ]
  },
  {
   "cell_type": "code",
   "execution_count": 15,
   "id": "636c7752-5154-441a-83c0-538464fb4312",
   "metadata": {},
   "outputs": [
    {
     "data": {
      "text/plain": [
       "numpy.ndarray"
      ]
     },
     "execution_count": 15,
     "metadata": {},
     "output_type": "execute_result"
    }
   ],
   "source": [
    "type(b)"
   ]
  },
  {
   "cell_type": "code",
   "execution_count": 16,
   "id": "49f09ac4-3444-4753-8bf1-a7cf8ac3efe8",
   "metadata": {},
   "outputs": [
    {
     "data": {
      "text/plain": [
       "(4, 3)"
      ]
     },
     "execution_count": 16,
     "metadata": {},
     "output_type": "execute_result"
    }
   ],
   "source": [
    "b.shape"
   ]
  },
  {
   "cell_type": "code",
   "execution_count": 17,
   "id": "68e2bf9d-c3ca-4e9b-99d4-e5de6ee2ef0d",
   "metadata": {},
   "outputs": [
    {
     "data": {
      "text/plain": [
       "array([[ 1,  2,  3],\n",
       "       [ 4,  5,  6],\n",
       "       [ 7,  8,  9],\n",
       "       [10, 11, 12]])"
      ]
     },
     "execution_count": 17,
     "metadata": {},
     "output_type": "execute_result"
    }
   ],
   "source": [
    "b\n"
   ]
  },
  {
   "cell_type": "markdown",
   "id": "841f2c86-bc36-4a6a-975e-62650ed4c294",
   "metadata": {},
   "source": [
    "NumPy Built-in methods"
   ]
  },
  {
   "cell_type": "code",
   "execution_count": 19,
   "id": "a7e9ac1f-12d1-4c98-90ba-38da12d26eda",
   "metadata": {},
   "outputs": [
    {
     "data": {
      "text/plain": [
       "array([[ 1,  2,  3,  4],\n",
       "       [ 5,  6,  7,  8],\n",
       "       [ 9, 10, 11, 12]])"
      ]
     },
     "execution_count": 19,
     "metadata": {},
     "output_type": "execute_result"
    }
   ],
   "source": [
    "b.reshape(3, 4)"
   ]
  },
  {
   "cell_type": "code",
   "execution_count": 27,
   "id": "d5858dd7-d49c-4496-a0e1-5fdef7504b29",
   "metadata": {},
   "outputs": [
    {
     "data": {
      "text/plain": [
       "array([[[ 1,  2,  3,  4,  5,  6],\n",
       "        [ 7,  8,  9, 10, 11, 12]]])"
      ]
     },
     "execution_count": 27,
     "metadata": {},
     "output_type": "execute_result"
    }
   ],
   "source": [
    "#3-d\n",
    "b.reshape(1,2,6)"
   ]
  },
  {
   "cell_type": "code",
   "execution_count": 28,
   "id": "3bbd5ee9-d2dd-46c9-adf2-98f5655d06fb",
   "metadata": {},
   "outputs": [],
   "source": [
    "tpl1 = (1,2,3)"
   ]
  },
  {
   "cell_type": "code",
   "execution_count": 29,
   "id": "18397509-d577-4b9a-b4b1-2af6f79c771b",
   "metadata": {},
   "outputs": [
    {
     "data": {
      "text/plain": [
       "tuple"
      ]
     },
     "execution_count": 29,
     "metadata": {},
     "output_type": "execute_result"
    }
   ],
   "source": [
    "type(tpl1)"
   ]
  },
  {
   "cell_type": "code",
   "execution_count": 30,
   "id": "ffff7689-2129-49f8-9e7c-b34fbea27ef1",
   "metadata": {},
   "outputs": [],
   "source": [
    "c = np.array(tpl1, dtype = 'i') "
   ]
  },
  {
   "cell_type": "code",
   "execution_count": 31,
   "id": "6a538e5c-0c7e-4f8d-ab5c-a5640a3c31c3",
   "metadata": {},
   "outputs": [
    {
     "data": {
      "text/plain": [
       "numpy.ndarray"
      ]
     },
     "execution_count": 31,
     "metadata": {},
     "output_type": "execute_result"
    }
   ],
   "source": [
    "type(c)"
   ]
  },
  {
   "cell_type": "code",
   "execution_count": 32,
   "id": "e373b0a7-9ca5-466f-953a-0db573a1b981",
   "metadata": {},
   "outputs": [
    {
     "data": {
      "text/plain": [
       "array([1, 2, 3], dtype=int32)"
      ]
     },
     "execution_count": 32,
     "metadata": {},
     "output_type": "execute_result"
    }
   ],
   "source": [
    "c"
   ]
  },
  {
   "cell_type": "code",
   "execution_count": 33,
   "id": "81277f29-cf30-4b23-8640-eba486fc8078",
   "metadata": {},
   "outputs": [
    {
     "data": {
      "text/plain": [
       "array([11.+0.j, 22.+0.j, 33.+0.j, 44.+0.j])"
      ]
     },
     "execution_count": 33,
     "metadata": {},
     "output_type": "execute_result"
    }
   ],
   "source": [
    "np.array([11,22,33,44], dtype = complex)"
   ]
  },
  {
   "cell_type": "code",
   "execution_count": 35,
   "id": "f5cde4e0-4a95-49ea-9430-47edf12151dc",
   "metadata": {},
   "outputs": [
    {
     "name": "stdout",
     "output_type": "stream",
     "text": [
      "[[[[[5 6 7 8]]]]]\n"
     ]
    }
   ],
   "source": [
    "arr1 = np.array([5,6,7,8], ndmin = 5)\n",
    "print(arr1)"
   ]
  },
  {
   "cell_type": "code",
   "execution_count": 5,
   "id": "777a2df2-8e2a-4a6c-90d1-19c0b4a2654d",
   "metadata": {},
   "outputs": [
    {
     "data": {
      "text/plain": [
       "array([ 0,  1,  2,  3,  4,  5,  6,  7,  8,  9, 10, 11, 12, 13, 14])"
      ]
     },
     "execution_count": 5,
     "metadata": {},
     "output_type": "execute_result"
    }
   ],
   "source": [
    "#Generating Techniques\n",
    "np.arange(0,15)"
   ]
  },
  {
   "cell_type": "code",
   "execution_count": 6,
   "id": "cc45b920-2ab1-4e3e-8f15-7445b4761655",
   "metadata": {},
   "outputs": [
    {
     "data": {
      "text/plain": [
       "array([ 0,  2,  4,  6,  8, 10, 12])"
      ]
     },
     "execution_count": 6,
     "metadata": {},
     "output_type": "execute_result"
    }
   ],
   "source": [
    "np.arange(0,14,2)"
   ]
  },
  {
   "cell_type": "code",
   "execution_count": 7,
   "id": "cb463360-a597-4771-a66b-6f498b974bdd",
   "metadata": {},
   "outputs": [
    {
     "data": {
      "text/plain": [
       "array([ 0.,  5., 10., 15., 20.])"
      ]
     },
     "execution_count": 7,
     "metadata": {},
     "output_type": "execute_result"
    }
   ],
   "source": [
    "np.linspace(0, 20, 5)"
   ]
  },
  {
   "cell_type": "code",
   "execution_count": 8,
   "id": "5f608690-4ab6-41ca-a202-78bf6c0fb0b7",
   "metadata": {},
   "outputs": [
    {
     "data": {
      "text/plain": [
       "array([ 5.   ,  6.875,  8.75 , 10.625, 12.5  , 14.375, 16.25 , 18.125,\n",
       "       20.   , 21.875, 23.75 , 25.625, 27.5  , 29.375, 31.25 , 33.125,\n",
       "       35.   , 36.875, 38.75 , 40.625, 42.5  , 44.375, 46.25 , 48.125,\n",
       "       50.   ])"
      ]
     },
     "execution_count": 8,
     "metadata": {},
     "output_type": "execute_result"
    }
   ],
   "source": [
    "np.linspace(5, 50, 25)"
   ]
  },
  {
   "cell_type": "code",
   "execution_count": 10,
   "id": "9652ce91-a264-472b-a6e2-b3ef88ae0455",
   "metadata": {},
   "outputs": [
    {
     "data": {
      "text/plain": [
       "array([[1., 1., 1., 1., 1.],\n",
       "       [1., 1., 1., 1., 1.],\n",
       "       [1., 1., 1., 1., 1.],\n",
       "       [1., 1., 1., 1., 1.]])"
      ]
     },
     "execution_count": 10,
     "metadata": {},
     "output_type": "execute_result"
    }
   ],
   "source": [
    "np.ones((4, 5))"
   ]
  },
  {
   "cell_type": "code",
   "execution_count": 11,
   "id": "0f261784-b3b3-4214-894b-ca91bedb0dfa",
   "metadata": {},
   "outputs": [
    {
     "data": {
      "text/plain": [
       "array([0., 0., 0., 0., 0., 0., 0., 0., 0., 0., 0., 0., 0., 0., 0., 0., 0.,\n",
       "       0., 0., 0., 0., 0., 0., 0., 0., 0., 0., 0., 0., 0., 0., 0., 0., 0.,\n",
       "       0., 0., 0., 0., 0., 0., 0., 0., 0., 0., 0., 0., 0., 0., 0., 0.])"
      ]
     },
     "execution_count": 11,
     "metadata": {},
     "output_type": "execute_result"
    }
   ],
   "source": [
    "np.zeros(50)"
   ]
  },
  {
   "cell_type": "code",
   "execution_count": 12,
   "id": "f80a802f-c0ce-4253-b027-a4e3cbe6579f",
   "metadata": {},
   "outputs": [
    {
     "data": {
      "text/plain": [
       "array([[1., 0., 0., 0., 0., 0.],\n",
       "       [0., 1., 0., 0., 0., 0.],\n",
       "       [0., 0., 1., 0., 0., 0.],\n",
       "       [0., 0., 0., 1., 0., 0.],\n",
       "       [0., 0., 0., 0., 1., 0.],\n",
       "       [0., 0., 0., 0., 0., 1.]])"
      ]
     },
     "execution_count": 12,
     "metadata": {},
     "output_type": "execute_result"
    }
   ],
   "source": [
    "np.eye(6)"
   ]
  },
  {
   "cell_type": "code",
   "execution_count": 20,
   "id": "c2792810-d689-4f5d-b357-5dc0d5626084",
   "metadata": {},
   "outputs": [
    {
     "data": {
      "text/plain": [
       "array([4.        , 5.0396842 , 6.34960421, 8.        ])"
      ]
     },
     "execution_count": 20,
     "metadata": {},
     "output_type": "execute_result"
    }
   ],
   "source": [
    "np.logspace(2.0, 3.0, num = 4, base = 2.0)"
   ]
  },
  {
   "cell_type": "code",
   "execution_count": 21,
   "id": "2549ee97-24eb-4671-83a7-5f27d6989c87",
   "metadata": {},
   "outputs": [
    {
     "data": {
      "text/plain": [
       "array([[0.67704326, 0.27251475, 0.55709316, 0.98993708],\n",
       "       [0.57743354, 0.80253042, 0.94372172, 0.50279058],\n",
       "       [0.45287138, 0.21331905, 0.49145344, 0.96695157]])"
      ]
     },
     "execution_count": 21,
     "metadata": {},
     "output_type": "execute_result"
    }
   ],
   "source": [
    "np.random.rand(3,4)"
   ]
  },
  {
   "cell_type": "code",
   "execution_count": 22,
   "id": "51c2cdac-0965-4bce-9a31-69c929d7cf7b",
   "metadata": {},
   "outputs": [
    {
     "data": {
      "text/plain": [
       "array([[0.22387309, 0.41475788, 0.7307907 ],\n",
       "       [0.03689333, 0.72544826, 0.42829187]])"
      ]
     },
     "execution_count": 22,
     "metadata": {},
     "output_type": "execute_result"
    }
   ],
   "source": [
    "np.random.rand(2,3)"
   ]
  },
  {
   "cell_type": "code",
   "execution_count": 23,
   "id": "4a3a12f0-20db-4bc1-a36e-162f143f8724",
   "metadata": {},
   "outputs": [
    {
     "data": {
      "text/plain": [
       "array([[0.87293355, 0.90958761, 0.516508  , 0.56039813, 0.30739053,\n",
       "        0.23249867, 0.37784933, 0.16119995, 0.19536551, 0.02558596,\n",
       "        0.36777042, 0.07589353],\n",
       "       [0.25281257, 0.708518  , 0.44665515, 0.39205854, 0.73136866,\n",
       "        0.23890506, 0.30755049, 0.4925726 , 0.05025515, 0.48171293,\n",
       "        0.56492563, 0.97658663]])"
      ]
     },
     "execution_count": 23,
     "metadata": {},
     "output_type": "execute_result"
    }
   ],
   "source": [
    "np.random.rand(2,12)"
   ]
  },
  {
   "cell_type": "code",
   "execution_count": 24,
   "id": "ec45d4e4-ffe6-4b1a-9db9-0459ddef77cb",
   "metadata": {},
   "outputs": [
    {
     "data": {
      "text/plain": [
       "array([0.50185794, 0.53381984, 0.99802789, 0.76376722, 0.8906275 ,\n",
       "       0.19763513, 0.30869773, 0.52545524, 0.54098994, 0.3622838 ,\n",
       "       0.42656501, 0.48223291, 0.8815451 , 0.47778337, 0.53208151,\n",
       "       0.06427522, 0.18334498, 0.68590046, 0.29883031, 0.5179404 ,\n",
       "       0.01556515, 0.58902015, 0.73600702, 0.80549173, 0.74665543,\n",
       "       0.3445743 , 0.6785854 , 0.32159343, 0.56822045, 0.68306193,\n",
       "       0.48081673, 0.67908163, 0.77556041, 0.97499213, 0.16747867,\n",
       "       0.93698345, 0.92831564, 0.74307541, 0.98270661, 0.11908571,\n",
       "       0.12197669, 0.34726341, 0.36326234, 0.92924881, 0.62404503,\n",
       "       0.82308031, 0.74457636, 0.08845467, 0.21124049, 0.63242737,\n",
       "       0.64337077, 0.29232048, 0.67882941, 0.87944303, 0.73988011,\n",
       "       0.90707027, 0.69406109, 0.91937948, 0.07554057, 0.61064998,\n",
       "       0.73061932, 0.08053544, 0.89690713, 0.12188055, 0.39198897,\n",
       "       0.55399693, 0.55140255, 0.66725277, 0.06827832, 0.67225776,\n",
       "       0.5148434 , 0.91311165, 0.47096308, 0.71304253, 0.4565311 ,\n",
       "       0.73701642, 0.12689912, 0.63863065, 0.20869229, 0.6614475 ,\n",
       "       0.57162145, 0.54626776, 0.68870572, 0.2798088 , 0.34786667,\n",
       "       0.41807445, 0.71564076, 0.42636295, 0.3570362 , 0.37701392,\n",
       "       0.37814596, 0.53524217, 0.24424062, 0.32697841, 0.25695296,\n",
       "       0.58383054, 0.49631748, 0.37038147, 0.33102612, 0.97757866])"
      ]
     },
     "execution_count": 24,
     "metadata": {},
     "output_type": "execute_result"
    }
   ],
   "source": [
    "np.random.rand(100)"
   ]
  },
  {
   "cell_type": "code",
   "execution_count": 26,
   "id": "0bfda08f-61da-43ed-b6bb-fd8224edf2d7",
   "metadata": {},
   "outputs": [
    {
     "data": {
      "text/plain": [
       "array([61, 21, 99,  0, 33,  3, 50, 15])"
      ]
     },
     "execution_count": 26,
     "metadata": {},
     "output_type": "execute_result"
    }
   ],
   "source": [
    "np.random.randint(100, size = 8)"
   ]
  },
  {
   "cell_type": "code",
   "execution_count": 27,
   "id": "999d6785-60e7-4674-a95b-9300ded5abba",
   "metadata": {},
   "outputs": [
    {
     "data": {
      "text/plain": [
       "array([15,  8,  5,  7,  7, 10, 15, 15])"
      ]
     },
     "execution_count": 27,
     "metadata": {},
     "output_type": "execute_result"
    }
   ],
   "source": [
    "np.random.randint(4,16, 8)"
   ]
  },
  {
   "cell_type": "markdown",
   "id": "f8d24af8-95c6-4875-b564-7e2fef1926c0",
   "metadata": {},
   "source": [
    "NumPy Built-in Functions"
   ]
  },
  {
   "cell_type": "code",
   "execution_count": 28,
   "id": "0526fe98-d5b5-4d84-a5e6-fb71a285338c",
   "metadata": {},
   "outputs": [],
   "source": [
    "a = np.array([1,2,3,4])"
   ]
  },
  {
   "cell_type": "code",
   "execution_count": 29,
   "id": "1819a3be-2a6c-436c-bcb5-630cc07a96c0",
   "metadata": {},
   "outputs": [
    {
     "data": {
      "text/plain": [
       "1"
      ]
     },
     "execution_count": 29,
     "metadata": {},
     "output_type": "execute_result"
    }
   ],
   "source": [
    "np.min(a)"
   ]
  },
  {
   "cell_type": "code",
   "execution_count": 30,
   "id": "98e96caa-0e24-4f4b-a4d7-84599f6009f7",
   "metadata": {},
   "outputs": [
    {
     "data": {
      "text/plain": [
       "array([0.        , 0.69314718, 1.09861229, 1.38629436])"
      ]
     },
     "execution_count": 30,
     "metadata": {},
     "output_type": "execute_result"
    }
   ],
   "source": [
    "np.log(a)"
   ]
  },
  {
   "cell_type": "code",
   "execution_count": 31,
   "id": "4f8d6c3a-4cf9-4eba-8f3d-a88a444d47ab",
   "metadata": {},
   "outputs": [
    {
     "data": {
      "text/plain": [
       "array([ 1,  4,  9, 16])"
      ]
     },
     "execution_count": 31,
     "metadata": {},
     "output_type": "execute_result"
    }
   ],
   "source": [
    "np.square(a)"
   ]
  },
  {
   "cell_type": "code",
   "execution_count": 33,
   "id": "850eaa1c-ad6b-412c-babe-2aceb9ff204d",
   "metadata": {},
   "outputs": [
    {
     "data": {
      "text/plain": [
       "array([1.        , 1.41421356, 1.73205081, 2.        ])"
      ]
     },
     "execution_count": 33,
     "metadata": {},
     "output_type": "execute_result"
    }
   ],
   "source": [
    "np.sqrt(a)"
   ]
  },
  {
   "cell_type": "code",
   "execution_count": 34,
   "id": "c9afe081-1a1a-4559-9e0e-3d8ce03c3d54",
   "metadata": {},
   "outputs": [
    {
     "data": {
      "text/plain": [
       "2.5"
      ]
     },
     "execution_count": 34,
     "metadata": {},
     "output_type": "execute_result"
    }
   ],
   "source": [
    "np.mean(a)"
   ]
  },
  {
   "cell_type": "markdown",
   "id": "23933b0a-0dbf-43ca-8b8f-a083e5c4c5b9",
   "metadata": {},
   "source": [
    "Indexing"
   ]
  },
  {
   "cell_type": "code",
   "execution_count": 36,
   "id": "9964bd2e-a1f5-41e5-aae3-161a2d1f3e8b",
   "metadata": {},
   "outputs": [],
   "source": [
    "b = np.array([1,2,3,4,5,6,7,8])"
   ]
  },
  {
   "cell_type": "code",
   "execution_count": 37,
   "id": "076c82ed-b3a6-4aab-adae-68e842523c94",
   "metadata": {},
   "outputs": [
    {
     "name": "stdout",
     "output_type": "stream",
     "text": [
      "2\n"
     ]
    }
   ],
   "source": [
    "print(b[1])"
   ]
  },
  {
   "cell_type": "code",
   "execution_count": 38,
   "id": "0570e4f4-bd33-4a32-b648-e0977177f65a",
   "metadata": {},
   "outputs": [
    {
     "name": "stdout",
     "output_type": "stream",
     "text": [
      "9\n"
     ]
    }
   ],
   "source": [
    "print(b[2]+b[5])"
   ]
  },
  {
   "cell_type": "code",
   "execution_count": 40,
   "id": "f3d14666-1412-4004-9cd4-bd71abe10f76",
   "metadata": {},
   "outputs": [
    {
     "name": "stdout",
     "output_type": "stream",
     "text": [
      "[[[ 1  2  3]\n",
      "  [ 4  5  6]]\n",
      "\n",
      " [[ 7  8  9]\n",
      "  [10 11 12]]]\n"
     ]
    }
   ],
   "source": [
    "#3Dimensional Array\n",
    "c = np.array([[[1,2,3],[4,5,6]],[[7,8,9],[10,11,12]]])\n",
    "print(c)"
   ]
  },
  {
   "cell_type": "code",
   "execution_count": 42,
   "id": "b41bc89a-f13e-4e26-b633-ca89e5a93bce",
   "metadata": {},
   "outputs": [
    {
     "name": "stdout",
     "output_type": "stream",
     "text": [
      "6\n"
     ]
    }
   ],
   "source": [
    "#PRINT 3rd element of 2nd array of first array\n",
    "print(c[0,1,2])"
   ]
  },
  {
   "cell_type": "code",
   "execution_count": 45,
   "id": "5a936387-b34a-4413-bd5a-eff316cf67e3",
   "metadata": {},
   "outputs": [
    {
     "name": "stdout",
     "output_type": "stream",
     "text": [
      "[[1 2 3]\n",
      " [4 5 6]]\n"
     ]
    }
   ],
   "source": [
    "d = np.array([[1,2,3],[4,5,6]])\n",
    "print(d)"
   ]
  },
  {
   "cell_type": "code",
   "execution_count": 48,
   "id": "c78cef8e-bf8c-47dd-9eb9-1a434224878b",
   "metadata": {},
   "outputs": [
    {
     "name": "stdout",
     "output_type": "stream",
     "text": [
      "6\n"
     ]
    }
   ],
   "source": [
    "print(c[0,1,2])"
   ]
  },
  {
   "cell_type": "code",
   "execution_count": 49,
   "id": "bce887c0-3557-448f-a3c0-2c2f0cf5d08f",
   "metadata": {},
   "outputs": [
    {
     "name": "stdout",
     "output_type": "stream",
     "text": [
      "11\n"
     ]
    }
   ],
   "source": [
    "print(c[1,1,-2])"
   ]
  },
  {
   "cell_type": "code",
   "execution_count": 50,
   "id": "e82c7564-c3cd-4cf9-a40f-ddeff17fc4ff",
   "metadata": {},
   "outputs": [
    {
     "name": "stdout",
     "output_type": "stream",
     "text": [
      "[[1, 2, 3], [4, 5, 6], [7, 8, 9], [10, 11, 12]]\n"
     ]
    }
   ],
   "source": [
    "lst3 = [[1,2,3],[4,5,6],[7,8,9],[10,11,12]]\n",
    "print(lst3)"
   ]
  },
  {
   "cell_type": "code",
   "execution_count": 51,
   "id": "8a9b8d4c-9d5d-4a44-b4fe-aae109375021",
   "metadata": {},
   "outputs": [
    {
     "data": {
      "text/plain": [
       "[[1, 2, 3], [4, 5, 6], [7, 8, 9], [10, 11, 12]]"
      ]
     },
     "execution_count": 51,
     "metadata": {},
     "output_type": "execute_result"
    }
   ],
   "source": [
    "lst3\n"
   ]
  },
  {
   "cell_type": "code",
   "execution_count": 52,
   "id": "4ed2a749-f1ab-4c95-935e-86ecbdbc7e4e",
   "metadata": {},
   "outputs": [],
   "source": [
    "x = np.array(lst3)"
   ]
  },
  {
   "cell_type": "code",
   "execution_count": 53,
   "id": "d0360ed1-e281-4c3e-be7c-080f4ecabd53",
   "metadata": {},
   "outputs": [
    {
     "data": {
      "text/plain": [
       "array([[ 1,  2,  3],\n",
       "       [ 4,  5,  6],\n",
       "       [ 7,  8,  9],\n",
       "       [10, 11, 12]])"
      ]
     },
     "execution_count": 53,
     "metadata": {},
     "output_type": "execute_result"
    }
   ],
   "source": [
    "x"
   ]
  },
  {
   "cell_type": "code",
   "execution_count": 54,
   "id": "33e6484c-7a5b-4861-b7a1-807a173b1b8d",
   "metadata": {},
   "outputs": [
    {
     "data": {
      "text/plain": [
       "array([[ 7,  8,  9],\n",
       "       [10, 11, 12]])"
      ]
     },
     "execution_count": 54,
     "metadata": {},
     "output_type": "execute_result"
    }
   ],
   "source": [
    "x[2:4]"
   ]
  },
  {
   "cell_type": "code",
   "execution_count": 55,
   "id": "08930499-052b-461e-b3af-3500d43bfbd0",
   "metadata": {},
   "outputs": [
    {
     "data": {
      "text/plain": [
       "array([[ 7,  8],\n",
       "       [10, 11]])"
      ]
     },
     "execution_count": 55,
     "metadata": {},
     "output_type": "execute_result"
    }
   ],
   "source": [
    "x[2:4,0:2]"
   ]
  },
  {
   "cell_type": "code",
   "execution_count": 57,
   "id": "91592f8a-db4e-49e8-8dc4-230920317e35",
   "metadata": {},
   "outputs": [
    {
     "data": {
      "text/plain": [
       "array([[5, 6],\n",
       "       [8, 9]])"
      ]
     },
     "execution_count": 57,
     "metadata": {},
     "output_type": "execute_result"
    }
   ],
   "source": [
    "x[1:3, 1:3]"
   ]
  },
  {
   "cell_type": "markdown",
   "id": "50dbea3f-374e-407d-abe6-9d4532246970",
   "metadata": {},
   "source": [
    "Transposing an array - rows & column switch"
   ]
  },
  {
   "cell_type": "code",
   "execution_count": 59,
   "id": "db9af7b3-083c-4695-9d71-b35ce0614ff4",
   "metadata": {},
   "outputs": [],
   "source": [
    "a = np.array ([\n",
    "    [1,2],\n",
    "    [3,4],\n",
    "    [5,6],\n",
    "    [7,8]])"
   ]
  },
  {
   "cell_type": "code",
   "execution_count": 60,
   "id": "3cdf7a58-f066-427d-adf7-b56abf7a0991",
   "metadata": {},
   "outputs": [
    {
     "data": {
      "text/plain": [
       "array([[1, 3, 5, 7],\n",
       "       [2, 4, 6, 8]])"
      ]
     },
     "execution_count": 60,
     "metadata": {},
     "output_type": "execute_result"
    }
   ],
   "source": [
    "a.transpose()"
   ]
  },
  {
   "cell_type": "code",
   "execution_count": 61,
   "id": "d016ab23-461d-4d94-b8e0-539f3a7583d2",
   "metadata": {},
   "outputs": [
    {
     "data": {
      "text/plain": [
       "array([[1, 3, 5, 7],\n",
       "       [2, 4, 6, 8]])"
      ]
     },
     "execution_count": 61,
     "metadata": {},
     "output_type": "execute_result"
    }
   ],
   "source": [
    "a.T\n",
    "\n"
   ]
  },
  {
   "cell_type": "markdown",
   "id": "16668f15-1ec6-4e80-bf5a-427fead99f20",
   "metadata": {},
   "source": [
    "Sorting - low to high"
   ]
  },
  {
   "cell_type": "code",
   "execution_count": 62,
   "id": "4c74dff0-6dde-48fc-a171-6f29c04e28f6",
   "metadata": {},
   "outputs": [],
   "source": [
    "m = np.array([[2,1,4],[3,7,6],[8,5,10]])"
   ]
  },
  {
   "cell_type": "code",
   "execution_count": 63,
   "id": "8ce6552f-113d-4b1b-9d7c-28cbddc026ce",
   "metadata": {},
   "outputs": [
    {
     "data": {
      "text/plain": [
       "array([[ 1,  2,  4],\n",
       "       [ 3,  6,  7],\n",
       "       [ 5,  8, 10]])"
      ]
     },
     "execution_count": 63,
     "metadata": {},
     "output_type": "execute_result"
    }
   ],
   "source": [
    "np.sort(m)"
   ]
  },
  {
   "cell_type": "markdown",
   "id": "5ddf4beb-9ec1-4abf-8d0d-a7012a17f1c5",
   "metadata": {},
   "source": [
    "Concatenation - combining 2 or more arrays"
   ]
  },
  {
   "cell_type": "code",
   "execution_count": 66,
   "id": "33de5c7a-614e-41ef-b8a8-6e877ab8ae38",
   "metadata": {},
   "outputs": [],
   "source": [
    "data1 = np.array ([\n",
    "    [11,22,33],\n",
    "    [44,55,66]])"
   ]
  },
  {
   "cell_type": "code",
   "execution_count": 67,
   "id": "a6eeca5b-6c4f-4daa-a3cc-54f5de4068cf",
   "metadata": {},
   "outputs": [],
   "source": [
    "data2 = np.array ([\n",
    "    [1,2,3],\n",
    "    [4,5,6]    \n",
    "])"
   ]
  },
  {
   "cell_type": "code",
   "execution_count": 68,
   "id": "bff3b774-5217-494b-af5a-99bad8045544",
   "metadata": {},
   "outputs": [
    {
     "data": {
      "text/plain": [
       "array([[11, 22, 33,  1,  2,  3],\n",
       "       [44, 55, 66,  4,  5,  6]])"
      ]
     },
     "execution_count": 68,
     "metadata": {},
     "output_type": "execute_result"
    }
   ],
   "source": [
    "np.hstack((data1,data2))"
   ]
  },
  {
   "cell_type": "code",
   "execution_count": 69,
   "id": "dcfa1887-b489-4cd6-9f8e-154ac33185ad",
   "metadata": {},
   "outputs": [
    {
     "data": {
      "text/plain": [
       "array([[1, 2, 3, 1, 2, 3],\n",
       "       [4, 5, 6, 4, 5, 6]])"
      ]
     },
     "execution_count": 69,
     "metadata": {},
     "output_type": "execute_result"
    }
   ],
   "source": [
    "np.hstack((data2, data2))"
   ]
  },
  {
   "cell_type": "code",
   "execution_count": 70,
   "id": "4b33562d-30b4-43bc-84e2-a77b55e73037",
   "metadata": {},
   "outputs": [
    {
     "data": {
      "text/plain": [
       "array([[11, 22, 33],\n",
       "       [44, 55, 66],\n",
       "       [ 1,  2,  3],\n",
       "       [ 4,  5,  6]])"
      ]
     },
     "execution_count": 70,
     "metadata": {},
     "output_type": "execute_result"
    }
   ],
   "source": [
    "np.concatenate((data1,data2))"
   ]
  },
  {
   "cell_type": "code",
   "execution_count": null,
   "id": "40877ee8-7fe1-400f-9e1a-315ca3f48aee",
   "metadata": {},
   "outputs": [],
   "source": []
  },
  {
   "cell_type": "code",
   "execution_count": 71,
   "id": "3beb091c-ab80-4e76-bbe7-b2c69dc7ad3f",
   "metadata": {},
   "outputs": [],
   "source": [
    "sample = np.array([1,2,3,4])"
   ]
  },
  {
   "cell_type": "code",
   "execution_count": 73,
   "id": "3ccdc6a9-a5ed-47c7-bb72-87cf51056e44",
   "metadata": {},
   "outputs": [],
   "source": [
    "copy = sample.copy()"
   ]
  },
  {
   "cell_type": "code",
   "execution_count": 74,
   "id": "2d376bf5-d8e8-4e01-8a26-6895f99969ed",
   "metadata": {},
   "outputs": [
    {
     "data": {
      "text/plain": [
       "array([1, 2, 3, 4])"
      ]
     },
     "execution_count": 74,
     "metadata": {},
     "output_type": "execute_result"
    }
   ],
   "source": [
    "copy"
   ]
  },
  {
   "cell_type": "code",
   "execution_count": 76,
   "id": "f9336621-66fd-4418-b0bd-b86c0d5adcb3",
   "metadata": {},
   "outputs": [],
   "source": [
    "copy[:] = 100"
   ]
  },
  {
   "cell_type": "code",
   "execution_count": 77,
   "id": "4f476bfc-4a0d-48ec-aeb3-894b01513779",
   "metadata": {},
   "outputs": [
    {
     "data": {
      "text/plain": [
       "array([100, 100, 100, 100])"
      ]
     },
     "execution_count": 77,
     "metadata": {},
     "output_type": "execute_result"
    }
   ],
   "source": [
    "copy"
   ]
  },
  {
   "cell_type": "code",
   "execution_count": 78,
   "id": "4e9ad782-f260-4a6f-8817-5159ff3cee5f",
   "metadata": {},
   "outputs": [
    {
     "data": {
      "text/plain": [
       "array([1, 2, 3, 4])"
      ]
     },
     "execution_count": 78,
     "metadata": {},
     "output_type": "execute_result"
    }
   ],
   "source": [
    "sample"
   ]
  },
  {
   "cell_type": "markdown",
   "id": "80a2ff2c-fb77-4911-bc98-d6dd6f413103",
   "metadata": {},
   "source": [
    "Arithematic Operations on Array"
   ]
  },
  {
   "cell_type": "code",
   "execution_count": 79,
   "id": "15f83419-be23-4335-8444-2474703f7fe3",
   "metadata": {},
   "outputs": [
    {
     "data": {
      "text/plain": [
       "array([101, 102, 103, 104])"
      ]
     },
     "execution_count": 79,
     "metadata": {},
     "output_type": "execute_result"
    }
   ],
   "source": [
    "sample + copy"
   ]
  },
  {
   "cell_type": "code",
   "execution_count": 80,
   "id": "d0126e63-ea84-4cda-a931-ff809e9b1510",
   "metadata": {},
   "outputs": [
    {
     "data": {
      "text/plain": [
       "array([0.01, 0.02, 0.03, 0.04])"
      ]
     },
     "execution_count": 80,
     "metadata": {},
     "output_type": "execute_result"
    }
   ],
   "source": [
    "sample /copy"
   ]
  },
  {
   "cell_type": "code",
   "execution_count": 81,
   "id": "2d782deb-a392-4fe6-ab43-b5929a42a005",
   "metadata": {},
   "outputs": [
    {
     "data": {
      "text/plain": [
       "array([100, 200, 300, 400])"
      ]
     },
     "execution_count": 81,
     "metadata": {},
     "output_type": "execute_result"
    }
   ],
   "source": [
    "sample * copy"
   ]
  },
  {
   "cell_type": "code",
   "execution_count": 82,
   "id": "965d6357-7559-43ac-a72d-b16cff090e40",
   "metadata": {},
   "outputs": [
    {
     "data": {
      "text/plain": [
       "array([-99, -98, -97, -96])"
      ]
     },
     "execution_count": 82,
     "metadata": {},
     "output_type": "execute_result"
    }
   ],
   "source": [
    "sample - copy"
   ]
  },
  {
   "cell_type": "code",
   "execution_count": 83,
   "id": "bbf0c5ee-c08e-47c8-93b9-fe5665cfffbf",
   "metadata": {},
   "outputs": [
    {
     "data": {
      "text/plain": [
       "array([1, 2, 3, 4, 5, 6, 7, 8])"
      ]
     },
     "execution_count": 83,
     "metadata": {},
     "output_type": "execute_result"
    }
   ],
   "source": [
    "#remove duplicates\n",
    "x = np.array([1,2,3,4,5,6,7,2,5,2,5,7, 5,8])\n",
    "np.unique(x)"
   ]
  },
  {
   "cell_type": "code",
   "execution_count": null,
   "id": "b08c2dfb-114d-4056-977e-1d9ebd088872",
   "metadata": {},
   "outputs": [],
   "source": []
  }
 ],
 "metadata": {
  "kernelspec": {
   "display_name": "Python 3 (ipykernel)",
   "language": "python",
   "name": "python3"
  },
  "language_info": {
   "codemirror_mode": {
    "name": "ipython",
    "version": 3
   },
   "file_extension": ".py",
   "mimetype": "text/x-python",
   "name": "python",
   "nbconvert_exporter": "python",
   "pygments_lexer": "ipython3",
   "version": "3.12.4"
  }
 },
 "nbformat": 4,
 "nbformat_minor": 5
}
