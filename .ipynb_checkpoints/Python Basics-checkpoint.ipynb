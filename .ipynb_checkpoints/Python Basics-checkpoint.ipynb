{
 "cells": [
  {
   "cell_type": "code",
   "execution_count": 1,
   "id": "ae85c057-be41-4cd6-aa06-314caa3f7a9b",
   "metadata": {},
   "outputs": [
    {
     "data": {
      "text/plain": [
       "8"
      ]
     },
     "execution_count": 1,
     "metadata": {},
     "output_type": "execute_result"
    }
   ],
   "source": [
    "2 ** 3"
   ]
  },
  {
   "cell_type": "code",
   "execution_count": 2,
   "id": "b742f183-3ee0-4fa8-8e46-b4307e2bc5fc",
   "metadata": {},
   "outputs": [
    {
     "data": {
      "text/plain": [
       "11"
      ]
     },
     "execution_count": 2,
     "metadata": {},
     "output_type": "execute_result"
    }
   ],
   "source": [
    "1 + 10"
   ]
  },
  {
   "cell_type": "code",
   "execution_count": 3,
   "id": "ffafdd1e-f174-46e9-bcc5-86cd237fba88",
   "metadata": {},
   "outputs": [
    {
     "data": {
      "text/plain": [
       "24"
      ]
     },
     "execution_count": 3,
     "metadata": {},
     "output_type": "execute_result"
    }
   ],
   "source": [
    "2 * 12"
   ]
  },
  {
   "cell_type": "code",
   "execution_count": 4,
   "id": "84dcac8c-2975-4dd0-938d-0f57954ee480",
   "metadata": {},
   "outputs": [
    {
     "name": "stdout",
     "output_type": "stream",
     "text": [
      "Skill Arena\n"
     ]
    }
   ],
   "source": [
    "print(\"Skill Arena\")"
   ]
  },
  {
   "cell_type": "code",
   "execution_count": 5,
   "id": "77baa3e7-df6a-4957-b589-80099cd9c43b",
   "metadata": {},
   "outputs": [
    {
     "name": "stdout",
     "output_type": "stream",
     "text": [
      "Skillarena\n"
     ]
    }
   ],
   "source": [
    "print('Skillarena')"
   ]
  },
  {
   "cell_type": "code",
   "execution_count": 6,
   "id": "6b83edcd-d120-4229-b84c-0b380ec9f312",
   "metadata": {},
   "outputs": [
    {
     "name": "stdout",
     "output_type": "stream",
     "text": [
      "Skill arena\n",
      "is nice\n"
     ]
    }
   ],
   "source": [
    "print('''Skill arena\n",
    "is nice''')"
   ]
  },
  {
   "cell_type": "markdown",
   "id": "817e1693-b436-4fc0-b716-a4178ae250da",
   "metadata": {},
   "source": [
    "Import libraries"
   ]
  },
  {
   "cell_type": "code",
   "execution_count": 8,
   "id": "a96b119f-17c8-4752-bcbd-1916fa26064f",
   "metadata": {},
   "outputs": [],
   "source": [
    "import math\n"
   ]
  },
  {
   "cell_type": "code",
   "execution_count": 9,
   "id": "ce60c579-b499-4620-90ce-71b471607bdc",
   "metadata": {},
   "outputs": [
    {
     "data": {
      "text/plain": [
       "3.0"
      ]
     },
     "execution_count": 9,
     "metadata": {},
     "output_type": "execute_result"
    }
   ],
   "source": [
    "math.sqrt(9)"
   ]
  },
  {
   "cell_type": "code",
   "execution_count": 10,
   "id": "d216b044-0b8d-4423-b41c-ce1d481e0fc1",
   "metadata": {},
   "outputs": [],
   "source": [
    "import math as m"
   ]
  },
  {
   "cell_type": "code",
   "execution_count": 11,
   "id": "0f52601f-4de1-4d33-af86-cda3628236c8",
   "metadata": {},
   "outputs": [
    {
     "data": {
      "text/plain": [
       "16.0"
      ]
     },
     "execution_count": 11,
     "metadata": {},
     "output_type": "execute_result"
    }
   ],
   "source": [
    "m.sqrt(256)"
   ]
  },
  {
   "cell_type": "code",
   "execution_count": 12,
   "id": "5e99406a-6022-49a0-9873-b37b9ac7ffbb",
   "metadata": {},
   "outputs": [],
   "source": [
    "from math import sqrt"
   ]
  },
  {
   "cell_type": "code",
   "execution_count": 13,
   "id": "b5bd853e-3af4-4f2a-97ed-aaa13f8050a6",
   "metadata": {},
   "outputs": [
    {
     "data": {
      "text/plain": [
       "9.433981132056603"
      ]
     },
     "execution_count": 13,
     "metadata": {},
     "output_type": "execute_result"
    }
   ],
   "source": [
    "sqrt(89)"
   ]
  },
  {
   "cell_type": "code",
   "execution_count": 14,
   "id": "70d4cb18-617a-43b8-869c-951da696e2e3",
   "metadata": {},
   "outputs": [
    {
     "data": {
      "text/plain": [
       "3.141592653589793"
      ]
     },
     "execution_count": 14,
     "metadata": {},
     "output_type": "execute_result"
    }
   ],
   "source": [
    "math.pi"
   ]
  },
  {
   "cell_type": "code",
   "execution_count": 15,
   "id": "21060de3-4bf7-41f2-9248-3883dc8b05b3",
   "metadata": {},
   "outputs": [
    {
     "data": {
      "text/plain": [
       "1.4142135623730951"
      ]
     },
     "execution_count": 15,
     "metadata": {},
     "output_type": "execute_result"
    }
   ],
   "source": [
    "sqrt(2)"
   ]
  },
  {
   "cell_type": "code",
   "execution_count": 16,
   "id": "37d5063b-4b33-482a-b77d-525168793dd8",
   "metadata": {},
   "outputs": [
    {
     "data": {
      "text/plain": [
       "1.0"
      ]
     },
     "execution_count": 16,
     "metadata": {},
     "output_type": "execute_result"
    }
   ],
   "source": [
    "math.log2(2)"
   ]
  },
  {
   "cell_type": "markdown",
   "id": "005b0756-becc-4253-aac7-8772bf80e0bd",
   "metadata": {},
   "source": [
    "Variable"
   ]
  },
  {
   "cell_type": "code",
   "execution_count": 17,
   "id": "97f9da6d-4ec0-4804-b017-e06a00f1c6f5",
   "metadata": {},
   "outputs": [],
   "source": [
    "a = 55\n",
    "b = 2 * 4"
   ]
  },
  {
   "cell_type": "code",
   "execution_count": 19,
   "id": "00890111-99e9-41de-9e12-ecdca44b94cd",
   "metadata": {},
   "outputs": [
    {
     "name": "stdout",
     "output_type": "stream",
     "text": [
      "63\n"
     ]
    }
   ],
   "source": [
    "print (a+b)\n"
   ]
  },
  {
   "cell_type": "code",
   "execution_count": 20,
   "id": "abc8ed2c-dc98-48c0-9018-16db1d832252",
   "metadata": {},
   "outputs": [],
   "source": [
    "test = 12"
   ]
  },
  {
   "cell_type": "code",
   "execution_count": 21,
   "id": "566b1ea4-860f-46cc-952a-6b78b32cf3b9",
   "metadata": {},
   "outputs": [
    {
     "data": {
      "text/plain": [
       "12"
      ]
     },
     "execution_count": 21,
     "metadata": {},
     "output_type": "execute_result"
    }
   ],
   "source": [
    "test"
   ]
  },
  {
   "cell_type": "markdown",
   "id": "7a53494c-f37b-41fd-84a4-82393aa93fa4",
   "metadata": {},
   "source": [
    "Operator"
   ]
  },
  {
   "cell_type": "code",
   "execution_count": 23,
   "id": "094a34bf-9dc0-4558-b410-9c2bb08065b2",
   "metadata": {},
   "outputs": [],
   "source": [
    "x = 23\n",
    "y = 21"
   ]
  },
  {
   "cell_type": "code",
   "execution_count": 24,
   "id": "84333e1f-0efe-4058-8615-f7ef30272ed1",
   "metadata": {},
   "outputs": [
    {
     "name": "stdout",
     "output_type": "stream",
     "text": [
      "44\n"
     ]
    }
   ],
   "source": [
    "print (x+y)"
   ]
  },
  {
   "cell_type": "code",
   "execution_count": 25,
   "id": "830aa7cd-8844-4c58-8385-c8bab617b81c",
   "metadata": {},
   "outputs": [
    {
     "name": "stdout",
     "output_type": "stream",
     "text": [
      "483\n"
     ]
    }
   ],
   "source": [
    "print (x*y)"
   ]
  },
  {
   "cell_type": "markdown",
   "id": "e9d6ead4-92a6-4fae-88e5-44d55bb292db",
   "metadata": {},
   "source": [
    "Expression & Statement"
   ]
  },
  {
   "cell_type": "code",
   "execution_count": 26,
   "id": "5e86148e-f39d-4fe1-a22f-b1af49c7f31e",
   "metadata": {},
   "outputs": [
    {
     "data": {
      "text/plain": [
       "76"
      ]
     },
     "execution_count": 26,
     "metadata": {},
     "output_type": "execute_result"
    }
   ],
   "source": [
    "t = 32 + 44 #statement\n",
    "32 + 44 #expression"
   ]
  },
  {
   "cell_type": "code",
   "execution_count": 27,
   "id": "9b69be08-d9b4-418a-a052-cdf44b109a34",
   "metadata": {},
   "outputs": [
    {
     "data": {
      "text/plain": [
       "1408"
      ]
     },
     "execution_count": 27,
     "metadata": {},
     "output_type": "execute_result"
    }
   ],
   "source": [
    "m = 32 * 44 #s\n",
    "32 * 44 #e"
   ]
  },
  {
   "cell_type": "markdown",
   "id": "c115fa95-6298-4560-b2cf-d3128ea8f9cb",
   "metadata": {},
   "source": [
    "Data type"
   ]
  },
  {
   "cell_type": "markdown",
   "id": "c30bea8d-4191-45e6-990e-42b98862a6bd",
   "metadata": {},
   "source": [
    "\"int bool str float list tuple set dict\""
   ]
  },
  {
   "cell_type": "code",
   "execution_count": 29,
   "id": "72976339-b160-4592-a372-9df40703afe0",
   "metadata": {},
   "outputs": [
    {
     "name": "stdout",
     "output_type": "stream",
     "text": [
      "2\n"
     ]
    }
   ],
   "source": [
    "print (1 * 2)"
   ]
  },
  {
   "cell_type": "code",
   "execution_count": 30,
   "id": "b1e0f334-f290-4ab2-8c95-9f4d2c243a9a",
   "metadata": {},
   "outputs": [
    {
     "name": "stdout",
     "output_type": "stream",
     "text": [
      "3\n"
     ]
    }
   ],
   "source": [
    "print (1+2)"
   ]
  },
  {
   "cell_type": "code",
   "execution_count": 31,
   "id": "e9d026e2-fc77-467a-beb4-f4c03b0a6d82",
   "metadata": {},
   "outputs": [
    {
     "name": "stdout",
     "output_type": "stream",
     "text": [
      "2.0\n"
     ]
    }
   ],
   "source": [
    "print (4/2)"
   ]
  },
  {
   "cell_type": "code",
   "execution_count": 32,
   "id": "5422c6fd-4b2d-44f8-8c17-ae5d0c042487",
   "metadata": {},
   "outputs": [
    {
     "data": {
      "text/plain": [
       "int"
      ]
     },
     "execution_count": 32,
     "metadata": {},
     "output_type": "execute_result"
    }
   ],
   "source": [
    "type (1+2)"
   ]
  },
  {
   "cell_type": "code",
   "execution_count": 33,
   "id": "ccd4ef03-a1c3-457a-91db-9dd1b5ee0aa8",
   "metadata": {},
   "outputs": [
    {
     "name": "stdout",
     "output_type": "stream",
     "text": [
      "3.5\n"
     ]
    }
   ],
   "source": [
    "print (7/2)"
   ]
  },
  {
   "cell_type": "code",
   "execution_count": 34,
   "id": "e2fbf6fb-da0d-4c03-bc0f-a5b508a278d2",
   "metadata": {},
   "outputs": [
    {
     "name": "stdout",
     "output_type": "stream",
     "text": [
      "<class 'float'>\n"
     ]
    }
   ],
   "source": [
    "print(type(7/3))"
   ]
  },
  {
   "cell_type": "code",
   "execution_count": 35,
   "id": "fe65a6f9-b9b0-400d-9f46-128b02961024",
   "metadata": {},
   "outputs": [
    {
     "name": "stdout",
     "output_type": "stream",
     "text": [
      "<class 'float'>\n"
     ]
    }
   ],
   "source": [
    "print(type(0.0001))"
   ]
  },
  {
   "cell_type": "code",
   "execution_count": 36,
   "id": "ff7510dd-c9fa-4c1a-89bb-39e7f8e50e81",
   "metadata": {},
   "outputs": [
    {
     "name": "stdout",
     "output_type": "stream",
     "text": [
      "9\n"
     ]
    }
   ],
   "source": [
    "print(3**2)"
   ]
  },
  {
   "cell_type": "code",
   "execution_count": 37,
   "id": "3cc3e476-179f-440c-8870-ee33c2076f21",
   "metadata": {},
   "outputs": [
    {
     "name": "stdout",
     "output_type": "stream",
     "text": [
      "3\n"
     ]
    }
   ],
   "source": [
    "print(21%6)"
   ]
  },
  {
   "cell_type": "markdown",
   "id": "ed8e5294-5e89-4d46-9374-2d0a567e2faa",
   "metadata": {},
   "source": [
    "String"
   ]
  },
  {
   "cell_type": "code",
   "execution_count": 38,
   "id": "e76eb360-e5a4-4a1d-8afe-022a138aa696",
   "metadata": {},
   "outputs": [
    {
     "name": "stdout",
     "output_type": "stream",
     "text": [
      "Skill set\n"
     ]
    }
   ],
   "source": [
    "print(\"Skill set\")"
   ]
  },
  {
   "cell_type": "code",
   "execution_count": 39,
   "id": "7868d2ed-e005-4581-b879-6a8077dfe683",
   "metadata": {},
   "outputs": [
    {
     "data": {
      "text/plain": [
       "str"
      ]
     },
     "execution_count": 39,
     "metadata": {},
     "output_type": "execute_result"
    }
   ],
   "source": [
    "a = str(10)\n",
    "type(a)"
   ]
  },
  {
   "cell_type": "code",
   "execution_count": 40,
   "id": "62548521-7cb0-4135-85c2-c537c6dd3531",
   "metadata": {},
   "outputs": [
    {
     "name": "stdout",
     "output_type": "stream",
     "text": [
      "hiiiiiiiii\n"
     ]
    }
   ],
   "source": [
    "travel = \"hiiiiiiiii\"\n",
    "print(travel)"
   ]
  },
  {
   "cell_type": "code",
   "execution_count": 41,
   "id": "9734c8f2-10ea-472d-8144-60e431dc9b13",
   "metadata": {},
   "outputs": [
    {
     "data": {
      "text/plain": [
       "str"
      ]
     },
     "execution_count": 41,
     "metadata": {},
     "output_type": "execute_result"
    }
   ],
   "source": [
    "type(travel)"
   ]
  },
  {
   "cell_type": "code",
   "execution_count": 42,
   "id": "422a4656-1bbf-4286-9e45-c87b70cccf2b",
   "metadata": {},
   "outputs": [
    {
     "name": "stdout",
     "output_type": "stream",
     "text": [
      "hiit's me\n"
     ]
    }
   ],
   "source": [
    "print ( \"hi\" + \"it's me\")"
   ]
  },
  {
   "cell_type": "code",
   "execution_count": 43,
   "id": "bde25e3b-906c-4bca-8584-1536ca5d6152",
   "metadata": {},
   "outputs": [
    {
     "name": "stdout",
     "output_type": "stream",
     "text": [
      "hi ko\n"
     ]
    }
   ],
   "source": [
    "print (\"hi\" + \" \" + \"ko\")"
   ]
  },
  {
   "cell_type": "code",
   "execution_count": 48,
   "id": "c4f22e94-a7c1-4ab8-8448-8f1bc6f1d70b",
   "metadata": {},
   "outputs": [
    {
     "name": "stdout",
     "output_type": "stream",
     "text": [
      "ramu passed class 2\n"
     ]
    }
   ],
   "source": [
    "name = \"ramu\"\n",
    "std = 2\n",
    "print (f'{name} passed class {std}' )"
   ]
  },
  {
   "cell_type": "code",
   "execution_count": 49,
   "id": "41b7e9c9-f38c-4641-969e-5daa163316ce",
   "metadata": {},
   "outputs": [
    {
     "name": "stdout",
     "output_type": "stream",
     "text": [
      "Type your name Kotte Pravallika\n"
     ]
    },
    {
     "name": "stdout",
     "output_type": "stream",
     "text": [
      "Kotte Pravallika\n"
     ]
    }
   ],
   "source": [
    "name = input(\"Type your name\")\n",
    "print(name)"
   ]
  },
  {
   "cell_type": "code",
   "execution_count": 54,
   "id": "4712aaea-3906-4fa5-9013-321f1bf9a7d3",
   "metadata": {},
   "outputs": [
    {
     "name": "stdout",
     "output_type": "stream",
     "text": [
      "Enter Maths marks 45\n",
      "Enter Science marks 45\n"
     ]
    },
    {
     "name": "stdout",
     "output_type": "stream",
     "text": [
      "Your marks:  90\n"
     ]
    }
   ],
   "source": [
    "a = int(input(\"Enter Maths marks\"))\n",
    "b = int(input(\"Enter Science marks\"))\n",
    "x = a + b\n",
    "print (\"Your marks: \", x)"
   ]
  },
  {
   "cell_type": "markdown",
   "id": "bc361a5b-18f3-4af9-a50c-427f3273cd87",
   "metadata": {},
   "source": [
    "Boolean"
   ]
  },
  {
   "cell_type": "code",
   "execution_count": 57,
   "id": "1a9b0417-6bed-46de-9ed6-9920813a10c5",
   "metadata": {},
   "outputs": [
    {
     "data": {
      "text/plain": [
       "bool"
      ]
     },
     "execution_count": 57,
     "metadata": {},
     "output_type": "execute_result"
    }
   ],
   "source": [
    "b = True\n",
    "type(b)"
   ]
  },
  {
   "cell_type": "code",
   "execution_count": 58,
   "id": "8d115649-d655-4c85-9365-7faa879bec93",
   "metadata": {},
   "outputs": [
    {
     "name": "stdout",
     "output_type": "stream",
     "text": [
      "False\n"
     ]
    }
   ],
   "source": [
    "c = 4\n",
    "d = 7\n",
    "print (c>d)"
   ]
  },
  {
   "cell_type": "markdown",
   "id": "f20c55c4-7f68-467b-9606-b5b1e7f41afe",
   "metadata": {},
   "source": [
    "Built-in Functions"
   ]
  },
  {
   "cell_type": "code",
   "execution_count": 60,
   "id": "2eb0fcda-9dd6-4c7f-9d3f-87bd6ef711b4",
   "metadata": {},
   "outputs": [
    {
     "data": {
      "text/plain": [
       "2.33"
      ]
     },
     "execution_count": 60,
     "metadata": {},
     "output_type": "execute_result"
    }
   ],
   "source": [
    "round (2.33333333, 2)"
   ]
  },
  {
   "cell_type": "code",
   "execution_count": 61,
   "id": "1d8274ee-2a3d-42e6-8a57-8f3038db43c6",
   "metadata": {},
   "outputs": [
    {
     "data": {
      "text/plain": [
       "9"
      ]
     },
     "execution_count": 61,
     "metadata": {},
     "output_type": "execute_result"
    }
   ],
   "source": [
    "len(\"Byeeeeeee\")"
   ]
  },
  {
   "cell_type": "code",
   "execution_count": 64,
   "id": "0634eadd-06e7-4b77-b1eb-83ef4a3cca89",
   "metadata": {},
   "outputs": [
    {
     "data": {
      "text/plain": [
       "'IT IS A SUNNY DAY'"
      ]
     },
     "execution_count": 64,
     "metadata": {},
     "output_type": "execute_result"
    }
   ],
   "source": [
    "weather = \"It is a sunny day\"\n",
    "weather.upper()"
   ]
  },
  {
   "cell_type": "code",
   "execution_count": 65,
   "id": "cc596b4a-07d1-4ad1-a8c7-dd6bdf68d6ac",
   "metadata": {},
   "outputs": [
    {
     "data": {
      "text/plain": [
       "'it is a sunny day'"
      ]
     },
     "execution_count": 65,
     "metadata": {},
     "output_type": "execute_result"
    }
   ],
   "source": [
    "weather.lower()"
   ]
  },
  {
   "cell_type": "markdown",
   "id": "83724893-79f1-4373-b2ee-47390f1760ec",
   "metadata": {},
   "source": [
    "Lists"
   ]
  },
  {
   "cell_type": "code",
   "execution_count": 70,
   "id": "58e39d0d-cd45-44f6-a24d-8fa43a875604",
   "metadata": {},
   "outputs": [],
   "source": [
    "l1 = ['chair','lamp','table']"
   ]
  },
  {
   "cell_type": "code",
   "execution_count": 72,
   "id": "57f5da33-80c5-405a-acc7-4ab96c6014a5",
   "metadata": {},
   "outputs": [
    {
     "name": "stdout",
     "output_type": "stream",
     "text": [
      "['chair', 'lamp', 'table']\n"
     ]
    },
    {
     "data": {
      "text/plain": [
       "list"
      ]
     },
     "execution_count": 72,
     "metadata": {},
     "output_type": "execute_result"
    }
   ],
   "source": [
    "print (l1)\n",
    "type(l1)"
   ]
  },
  {
   "cell_type": "code",
   "execution_count": 73,
   "id": "160ef247-6a13-48ea-bcdb-3d2b2d7a987d",
   "metadata": {},
   "outputs": [],
   "source": [
    "l2 = [2, 4.5, 'string']"
   ]
  },
  {
   "cell_type": "code",
   "execution_count": 74,
   "id": "e374d0bc-a377-4a5b-95f5-9fd30af02549",
   "metadata": {},
   "outputs": [
    {
     "name": "stdout",
     "output_type": "stream",
     "text": [
      "[2, 4.5, 'string']\n"
     ]
    },
    {
     "data": {
      "text/plain": [
       "list"
      ]
     },
     "execution_count": 74,
     "metadata": {},
     "output_type": "execute_result"
    }
   ],
   "source": [
    "print(l2)\n",
    "type(l2)"
   ]
  },
  {
   "cell_type": "code",
   "execution_count": 75,
   "id": "10638446-301b-4dde-a9f5-39c365dc3b40",
   "metadata": {},
   "outputs": [
    {
     "name": "stdout",
     "output_type": "stream",
     "text": [
      "2\n"
     ]
    }
   ],
   "source": [
    "print(l2[0])"
   ]
  },
  {
   "cell_type": "code",
   "execution_count": 79,
   "id": "480af299-d29a-4e12-967c-3b3ad0c735b2",
   "metadata": {},
   "outputs": [
    {
     "name": "stdout",
     "output_type": "stream",
     "text": [
      "['lamp', 'table']\n"
     ]
    }
   ],
   "source": [
    "print(l1[1:3])"
   ]
  },
  {
   "cell_type": "code",
   "execution_count": 80,
   "id": "36cead85-cd9a-4a01-9b78-56f0006abb98",
   "metadata": {},
   "outputs": [
    {
     "name": "stdout",
     "output_type": "stream",
     "text": [
      "string\n"
     ]
    }
   ],
   "source": [
    "print(l2[-1])"
   ]
  },
  {
   "cell_type": "code",
   "execution_count": 81,
   "id": "4f51ea1f-9580-4ea8-99a1-10c043076ae3",
   "metadata": {},
   "outputs": [],
   "source": [
    "l1.append('mouse')"
   ]
  },
  {
   "cell_type": "code",
   "execution_count": 82,
   "id": "5a655331-cb01-4e41-8a31-63297136ec33",
   "metadata": {},
   "outputs": [
    {
     "name": "stdout",
     "output_type": "stream",
     "text": [
      "['chair', 'lamp', 'table', 'mouse']\n"
     ]
    }
   ],
   "source": [
    "print(l1)"
   ]
  },
  {
   "cell_type": "code",
   "execution_count": 83,
   "id": "ce05689c-ebb7-4a8e-88ba-5d528f00bfec",
   "metadata": {},
   "outputs": [],
   "source": [
    "l1.extend(['headphone','watch'])"
   ]
  },
  {
   "cell_type": "code",
   "execution_count": 84,
   "id": "98a52dc6-f9c9-43a0-b40f-1ee8f1049cc9",
   "metadata": {},
   "outputs": [
    {
     "name": "stdout",
     "output_type": "stream",
     "text": [
      "['chair', 'lamp', 'table', 'mouse', 'headphone', 'watch']\n"
     ]
    }
   ],
   "source": [
    "print(l1)"
   ]
  },
  {
   "cell_type": "code",
   "execution_count": 85,
   "id": "2cd9c568-2ecd-4255-b40a-73ec8c8749b0",
   "metadata": {},
   "outputs": [],
   "source": [
    "l1.insert(3, 'phone')"
   ]
  },
  {
   "cell_type": "code",
   "execution_count": 86,
   "id": "9876116c-b111-4903-9d74-44e11d1bbeab",
   "metadata": {},
   "outputs": [
    {
     "name": "stdout",
     "output_type": "stream",
     "text": [
      "['chair', 'lamp', 'table', 'phone', 'mouse', 'headphone', 'watch']\n"
     ]
    }
   ],
   "source": [
    "print(l1)"
   ]
  },
  {
   "cell_type": "code",
   "execution_count": 92,
   "id": "ec067738-5bde-4935-9b1a-10b4d9bac764",
   "metadata": {},
   "outputs": [
    {
     "name": "stdout",
     "output_type": "stream",
     "text": [
      "['lamp', 'table', 'phone', 'mouse', 'headphone', 'watch']\n"
     ]
    }
   ],
   "source": [
    "l1.remove('chair')\n",
    "print(l1)"
   ]
  },
  {
   "cell_type": "code",
   "execution_count": 93,
   "id": "8e4319c8-7323-4e6c-ab90-f08e08b0f3fb",
   "metadata": {},
   "outputs": [],
   "source": [
    "l3 = [1, 4, 2, 5, 6, 2, 5, 8]"
   ]
  },
  {
   "cell_type": "code",
   "execution_count": 94,
   "id": "02b1db8f-2753-46ec-bdb5-f3c48bc2e7e6",
   "metadata": {},
   "outputs": [],
   "source": [
    "l3.sort()"
   ]
  },
  {
   "cell_type": "code",
   "execution_count": 95,
   "id": "5df16f8b-5577-42fc-86a6-008da283d171",
   "metadata": {},
   "outputs": [
    {
     "name": "stdout",
     "output_type": "stream",
     "text": [
      "[1, 2, 2, 4, 5, 5, 6, 8]\n"
     ]
    }
   ],
   "source": [
    "print(l3)"
   ]
  },
  {
   "cell_type": "code",
   "execution_count": 96,
   "id": "797bbf48-628e-4db4-8967-9499590ec20d",
   "metadata": {},
   "outputs": [
    {
     "name": "stdout",
     "output_type": "stream",
     "text": [
      "[1, 2, 2, 4, 5, 5, 6, 8]\n"
     ]
    }
   ],
   "source": [
    "l4 = l3.copy()\n",
    "print(l4)"
   ]
  },
  {
   "cell_type": "code",
   "execution_count": 98,
   "id": "f8650f2b-1bbb-4c4a-ac45-7d5f24ed34d3",
   "metadata": {},
   "outputs": [
    {
     "name": "stdout",
     "output_type": "stream",
     "text": [
      "['vjw', 'gwl', 'nag', 'bhp']\n"
     ]
    }
   ],
   "source": [
    "city = ['zhb', 'hyd', 'clk', 'gnt', 'vjw', 'gwl', 'nag', 'bhp', 'jhn', 'del']\n",
    "print (city[4:8])"
   ]
  },
  {
   "cell_type": "code",
   "execution_count": 99,
   "id": "64c9f253-934f-4921-8911-d53d565cbbdc",
   "metadata": {},
   "outputs": [],
   "source": [
    "city2 = city[4:8].copy()"
   ]
  },
  {
   "cell_type": "code",
   "execution_count": 100,
   "id": "3b1d8db2-91a1-4f00-beea-1450adb8206f",
   "metadata": {},
   "outputs": [
    {
     "name": "stdout",
     "output_type": "stream",
     "text": [
      "['vjw', 'gwl', 'nag', 'bhp']\n"
     ]
    }
   ],
   "source": [
    "print (city2)"
   ]
  },
  {
   "cell_type": "code",
   "execution_count": 109,
   "id": "3526e3d3-1072-4c8e-b71c-149fe4ece4b2",
   "metadata": {},
   "outputs": [],
   "source": [
    "city2.insert(3, 'patna')"
   ]
  },
  {
   "cell_type": "code",
   "execution_count": 110,
   "id": "b57135c4-faad-4da8-9ba1-bfc3efacc635",
   "metadata": {},
   "outputs": [
    {
     "name": "stdout",
     "output_type": "stream",
     "text": [
      "['vjw', 'patna', 'patna', 'patna', 'gwl', 'nag', 'bhp', 'patna']\n"
     ]
    }
   ],
   "source": [
    "print(city2)"
   ]
  },
  {
   "cell_type": "markdown",
   "id": "4b7c48c5-0f5a-4706-a661-5c91c269e4c4",
   "metadata": {},
   "source": [
    "Dictionary"
   ]
  },
  {
   "cell_type": "code",
   "execution_count": 111,
   "id": "85821798-fc90-4202-9a90-9ff09abee913",
   "metadata": {},
   "outputs": [],
   "source": [
    "d1 = {\n",
    "    'a' : 'books', \n",
    "        'b' : 'read'\n",
    "}"
   ]
  },
  {
   "cell_type": "code",
   "execution_count": 113,
   "id": "027f0dcd-0086-4b16-a836-42a16fdf362f",
   "metadata": {},
   "outputs": [
    {
     "data": {
      "text/plain": [
       "'read'"
      ]
     },
     "execution_count": 113,
     "metadata": {},
     "output_type": "execute_result"
    }
   ],
   "source": [
    "d1['b']"
   ]
  },
  {
   "cell_type": "code",
   "execution_count": 114,
   "id": "2156846c-45ea-47e3-8472-3a1d7a156ae7",
   "metadata": {},
   "outputs": [
    {
     "data": {
      "text/plain": [
       "dict"
      ]
     },
     "execution_count": 114,
     "metadata": {},
     "output_type": "execute_result"
    }
   ],
   "source": [
    "type(d1)"
   ]
  },
  {
   "cell_type": "code",
   "execution_count": 118,
   "id": "faed5018-79d0-455b-92e2-263a19c8c2da",
   "metadata": {},
   "outputs": [
    {
     "name": "stdout",
     "output_type": "stream",
     "text": [
      "k\n"
     ]
    }
   ],
   "source": [
    "print(d1['a'][3])"
   ]
  },
  {
   "cell_type": "code",
   "execution_count": 120,
   "id": "5ee84642-3461-4274-a2eb-06a43848ac5b",
   "metadata": {},
   "outputs": [],
   "source": [
    "d1.update({\n",
    "    'c' : 'novels',\n",
    "})"
   ]
  },
  {
   "cell_type": "code",
   "execution_count": 121,
   "id": "4c9ef3a9-8204-4fe5-95bc-35502e43d359",
   "metadata": {},
   "outputs": [
    {
     "name": "stdout",
     "output_type": "stream",
     "text": [
      "{'a': 'books', 'b': 'read', 'c': 'novels'}\n"
     ]
    }
   ],
   "source": [
    "print(d1)"
   ]
  },
  {
   "cell_type": "code",
   "execution_count": 127,
   "id": "8802890d-6c4f-496c-bf65-19662336e0b1",
   "metadata": {},
   "outputs": [],
   "source": [
    "office = {\n",
    "    'table' : [1, 2, 3, 4],\n",
    "    'laptop' : 10,\n",
    "    'chair' : 'manyyy',\n",
    "    'a' : 'chairs',\n",
    "    'b' : 'tables',\n",
    "    'c' : 'desks',\n",
    "    'd' : 'halls',\n",
    "    'e' : 'rooms'\n",
    "}"
   ]
  },
  {
   "cell_type": "code",
   "execution_count": 128,
   "id": "b5d288c6-a7a0-4419-bf89-b7a980e6148f",
   "metadata": {},
   "outputs": [
    {
     "name": "stdout",
     "output_type": "stream",
     "text": [
      "True\n"
     ]
    }
   ],
   "source": [
    "print ('table' in office)"
   ]
  },
  {
   "cell_type": "code",
   "execution_count": 129,
   "id": "3c27be50-c01b-4429-a803-d79023f08a8e",
   "metadata": {},
   "outputs": [
    {
     "name": "stdout",
     "output_type": "stream",
     "text": [
      "True\n"
     ]
    }
   ],
   "source": [
    "print (10 in office.values())"
   ]
  },
  {
   "cell_type": "markdown",
   "id": "76aa51c9-6537-4fa2-993c-a0b17565763b",
   "metadata": {},
   "source": [
    "Tuples"
   ]
  },
  {
   "cell_type": "code",
   "execution_count": 3,
   "id": "3f1ca5ee-4361-417e-9be2-e9a6546b4ee1",
   "metadata": {},
   "outputs": [],
   "source": [
    "m = (1,2,3,4)"
   ]
  },
  {
   "cell_type": "code",
   "execution_count": 4,
   "id": "49620a98",
   "metadata": {},
   "outputs": [
    {
     "name": "stdout",
     "output_type": "stream",
     "text": [
      "(1, 2, 3, 4)\n"
     ]
    }
   ],
   "source": [
    "print (m)"
   ]
  },
  {
   "cell_type": "code",
   "execution_count": 5,
   "id": "63557484",
   "metadata": {},
   "outputs": [
    {
     "data": {
      "text/plain": [
       "3"
      ]
     },
     "execution_count": 5,
     "metadata": {},
     "output_type": "execute_result"
    }
   ],
   "source": [
    "m[2]"
   ]
  },
  {
   "cell_type": "code",
   "execution_count": 6,
   "id": "6b35602e-a072-4a6d-b388-64fb306b708e",
   "metadata": {},
   "outputs": [
    {
     "data": {
      "text/plain": [
       "3"
      ]
     },
     "execution_count": 6,
     "metadata": {},
     "output_type": "execute_result"
    }
   ],
   "source": [
    "m[-2]\n"
   ]
  },
  {
   "cell_type": "code",
   "execution_count": 7,
   "id": "fe296fbc-019c-4fc5-ab76-f39205e83cce",
   "metadata": {},
   "outputs": [],
   "source": [
    "n = (2, 3, 4, 5)"
   ]
  },
  {
   "cell_type": "code",
   "execution_count": 8,
   "id": "b1c2c3e4-f5c1-4b46-839c-bac863d3d057",
   "metadata": {},
   "outputs": [
    {
     "data": {
      "text/plain": [
       "(2, 3)"
      ]
     },
     "execution_count": 8,
     "metadata": {},
     "output_type": "execute_result"
    }
   ],
   "source": [
    "n[0:2]"
   ]
  },
  {
   "cell_type": "code",
   "execution_count": 9,
   "id": "1539fe15-3fc2-439f-8ba2-b886cb88f329",
   "metadata": {},
   "outputs": [],
   "source": [
    "l = m + n #concatenation"
   ]
  },
  {
   "cell_type": "code",
   "execution_count": 10,
   "id": "2a3d4930-4385-4346-a433-67b45913c0b5",
   "metadata": {},
   "outputs": [
    {
     "name": "stdout",
     "output_type": "stream",
     "text": [
      "(1, 2, 3, 4, 2, 3, 4, 5)\n"
     ]
    }
   ],
   "source": [
    "print(l)"
   ]
  },
  {
   "cell_type": "code",
   "execution_count": 11,
   "id": "96f5ea88-b4f3-4e24-b962-552596c1f3e1",
   "metadata": {},
   "outputs": [],
   "source": [
    "del l #delete the tuple"
   ]
  },
  {
   "cell_type": "code",
   "execution_count": 15,
   "id": "8a7b0495-318d-4620-9df7-fc82a016a9ac",
   "metadata": {},
   "outputs": [
    {
     "name": "stdout",
     "output_type": "stream",
     "text": [
      "(2, 3, 4, 5)\n"
     ]
    }
   ],
   "source": [
    "print (n)"
   ]
  },
  {
   "cell_type": "code",
   "execution_count": 16,
   "id": "4fe1bf15-9c9e-41e4-98d2-df035ebbdfbe",
   "metadata": {},
   "outputs": [],
   "source": [
    "p, q, r,* other = (10, 20, 30, 40, 50, 60, 70, 80)"
   ]
  },
  {
   "cell_type": "code",
   "execution_count": 19,
   "id": "f7e6b28a-cab5-4b38-97bf-14ee4cddfc83",
   "metadata": {},
   "outputs": [
    {
     "name": "stdout",
     "output_type": "stream",
     "text": [
      "40 50 60 70 80\n"
     ]
    }
   ],
   "source": [
    "print (* other)"
   ]
  },
  {
   "cell_type": "code",
   "execution_count": 22,
   "id": "964496a4-7f66-478f-aa26-f7585bc0e0ec",
   "metadata": {},
   "outputs": [],
   "source": [
    "a, b, c,* otherr, d = (10, 20, 30, 40, 50, 60, 70, 80)"
   ]
  },
  {
   "cell_type": "code",
   "execution_count": 23,
   "id": "f674afe5-e93b-4019-a81e-624569d70fef",
   "metadata": {},
   "outputs": [
    {
     "name": "stdout",
     "output_type": "stream",
     "text": [
      "40 50 60 70\n"
     ]
    }
   ],
   "source": [
    "print(* otherr)"
   ]
  },
  {
   "cell_type": "code",
   "execution_count": 24,
   "id": "13a57838-297e-41da-848d-2a0ed2be850a",
   "metadata": {},
   "outputs": [
    {
     "name": "stdout",
     "output_type": "stream",
     "text": [
      "4\n"
     ]
    }
   ],
   "source": [
    "print(len(m))"
   ]
  },
  {
   "cell_type": "code",
   "execution_count": 25,
   "id": "c19355f1-e5bf-4fc1-9205-25d6888b0d55",
   "metadata": {},
   "outputs": [
    {
     "name": "stdout",
     "output_type": "stream",
     "text": [
      "5\n"
     ]
    }
   ],
   "source": [
    "print(max(n))"
   ]
  },
  {
   "cell_type": "code",
   "execution_count": 26,
   "id": "95ab36c3-b42c-460b-995c-57d0a0073e53",
   "metadata": {},
   "outputs": [
    {
     "name": "stdout",
     "output_type": "stream",
     "text": [
      "2\n"
     ]
    }
   ],
   "source": [
    "print(min(n))"
   ]
  },
  {
   "cell_type": "raw",
   "id": "776e51e4-73c6-4751-98c7-47c1d9678920",
   "metadata": {},
   "source": [
    "Sets"
   ]
  },
  {
   "cell_type": "code",
   "execution_count": 28,
   "id": "406c4672-e8d5-4937-8576-d0b2ffa43c29",
   "metadata": {},
   "outputs": [],
   "source": [
    "name = {\"John\", \"Seenu\", \"Don\"}"
   ]
  },
  {
   "cell_type": "code",
   "execution_count": 29,
   "id": "6b36bc95-3853-45a4-bf92-b8ddf76c5ac4",
   "metadata": {},
   "outputs": [
    {
     "name": "stdout",
     "output_type": "stream",
     "text": [
      "{'John', 'Seenu', 'Don'}\n"
     ]
    }
   ],
   "source": [
    "print(name)"
   ]
  },
  {
   "cell_type": "code",
   "execution_count": 30,
   "id": "78bc2b34-855f-40a5-871f-dbcfa9d33f35",
   "metadata": {},
   "outputs": [],
   "source": [
    "name.add(\"Bone\") #add"
   ]
  },
  {
   "cell_type": "code",
   "execution_count": 31,
   "id": "89686c42-9a24-47d5-aa41-f04e54e324dd",
   "metadata": {},
   "outputs": [
    {
     "name": "stdout",
     "output_type": "stream",
     "text": [
      "{'John', 'Seenu', 'Bone', 'Don'}\n"
     ]
    }
   ],
   "source": [
    "print(name)"
   ]
  },
  {
   "cell_type": "code",
   "execution_count": 32,
   "id": "f88ed6e8-2a0b-4bb4-8382-5d9682177819",
   "metadata": {},
   "outputs": [
    {
     "name": "stdout",
     "output_type": "stream",
     "text": [
      "{1, 2, 3, 4, 5, 6, 7}\n"
     ]
    }
   ],
   "source": [
    "#unique\n",
    "a = {1, 2, 3,4,5,6,7,7}\n",
    "print(a)"
   ]
  },
  {
   "cell_type": "code",
   "execution_count": 34,
   "id": "7523498a-2942-4bda-8592-ed41beb87ea8",
   "metadata": {},
   "outputs": [
    {
     "name": "stdout",
     "output_type": "stream",
     "text": [
      "7\n"
     ]
    }
   ],
   "source": [
    "print(len(a))"
   ]
  },
  {
   "cell_type": "code",
   "execution_count": 35,
   "id": "e01e2d6d-ca67-47af-8bef-066684b73dc4",
   "metadata": {},
   "outputs": [
    {
     "name": "stdout",
     "output_type": "stream",
     "text": [
      "True\n"
     ]
    }
   ],
   "source": [
    "print(3 in a)"
   ]
  },
  {
   "cell_type": "code",
   "execution_count": 36,
   "id": "8f16b616-2b7c-4747-ab31-5e41392954aa",
   "metadata": {},
   "outputs": [
    {
     "name": "stdout",
     "output_type": "stream",
     "text": [
      "{2, 3, 4, 5, 6, 7}\n"
     ]
    }
   ],
   "source": [
    "a.pop()\n",
    "print(a)"
   ]
  },
  {
   "cell_type": "code",
   "execution_count": 37,
   "id": "110a7f25-b50f-4583-8f43-4bc42c18f6d7",
   "metadata": {},
   "outputs": [
    {
     "name": "stdout",
     "output_type": "stream",
     "text": [
      "{3, 4, 5, 6, 7}\n"
     ]
    }
   ],
   "source": [
    "a.remove(2)\n",
    "print(a)"
   ]
  },
  {
   "cell_type": "code",
   "execution_count": 38,
   "id": "3bcea05c-9a8c-4c06-8392-b56789d749bf",
   "metadata": {},
   "outputs": [],
   "source": [
    "b = {2, 4, 6, 8, 10, 12}\n",
    "c = {3, 6, 9, 12, 15}"
   ]
  },
  {
   "cell_type": "markdown",
   "id": "6dba26d5-fe8a-4cbf-afbc-49b85ae147bd",
   "metadata": {},
   "source": [
    "Set Operations"
   ]
  },
  {
   "cell_type": "code",
   "execution_count": 39,
   "id": "3e12c8c6-89d9-43bb-923e-394184a49508",
   "metadata": {},
   "outputs": [
    {
     "name": "stdout",
     "output_type": "stream",
     "text": [
      "{2, 3, 4, 6, 8, 9, 10, 12, 15}\n"
     ]
    }
   ],
   "source": [
    "#union\n",
    "print(b.union(c))"
   ]
  },
  {
   "cell_type": "code",
   "execution_count": 40,
   "id": "33268c27-7aa0-459b-a225-8f147f1b8449",
   "metadata": {},
   "outputs": [
    {
     "name": "stdout",
     "output_type": "stream",
     "text": [
      "{2, 3, 4, 6, 8, 9, 10, 12, 15}\n"
     ]
    }
   ],
   "source": [
    "print(b|c)\n"
   ]
  },
  {
   "cell_type": "code",
   "execution_count": 41,
   "id": "9528e3c6-8d04-49e0-bfd0-d0f3a7802670",
   "metadata": {},
   "outputs": [
    {
     "name": "stdout",
     "output_type": "stream",
     "text": [
      "{12, 6}\n"
     ]
    }
   ],
   "source": [
    "#intersection\n",
    "print(b.intersection(c))"
   ]
  },
  {
   "cell_type": "code",
   "execution_count": 42,
   "id": "d259a7d8-8eed-4651-b19f-94d8488e460b",
   "metadata": {},
   "outputs": [
    {
     "name": "stdout",
     "output_type": "stream",
     "text": [
      "{12, 6}\n"
     ]
    }
   ],
   "source": [
    "print (b & c)"
   ]
  },
  {
   "cell_type": "code",
   "execution_count": 44,
   "id": "5f451d9f-8184-48e5-a152-b135620ae3d8",
   "metadata": {},
   "outputs": [
    {
     "name": "stdout",
     "output_type": "stream",
     "text": [
      "{8, 2, 10, 4}\n"
     ]
    }
   ],
   "source": [
    "#difference\n",
    "print(b.difference(c))"
   ]
  },
  {
   "cell_type": "code",
   "execution_count": 45,
   "id": "f27fde95-fe5e-425c-8cdb-4866ae3cbcec",
   "metadata": {},
   "outputs": [
    {
     "name": "stdout",
     "output_type": "stream",
     "text": [
      "{8, 2, 10, 4}\n"
     ]
    }
   ],
   "source": [
    "print(b - c)"
   ]
  },
  {
   "cell_type": "code",
   "execution_count": 47,
   "id": "9e4fff52-f59e-43d1-8e1c-a559ddc00f78",
   "metadata": {},
   "outputs": [
    {
     "name": "stdout",
     "output_type": "stream",
     "text": [
      "frozenset({'John', 'Seenu', 'Bone', 'Don'})\n"
     ]
    }
   ],
   "source": [
    "f = frozenset(name)\n",
    "print(f)"
   ]
  }
 ],
 "metadata": {
  "kernelspec": {
   "display_name": "Python 3 (ipykernel)",
   "language": "python",
   "name": "python3"
  },
  "language_info": {
   "codemirror_mode": {
    "name": "ipython",
    "version": 3
   },
   "file_extension": ".py",
   "mimetype": "text/x-python",
   "name": "python",
   "nbconvert_exporter": "python",
   "pygments_lexer": "ipython3",
   "version": "3.12.4"
  }
 },
 "nbformat": 4,
 "nbformat_minor": 5
}
